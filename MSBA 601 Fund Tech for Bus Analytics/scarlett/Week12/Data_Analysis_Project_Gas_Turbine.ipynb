{
 "cells": [
  {
   "cell_type": "markdown",
   "id": "0bb18b2e",
   "metadata": {},
   "source": [
    "\n",
    "# Data Analysis Project\n",
    "\n",
    "**Students Names:** Auriana Mitchell, Scarlett Shi <br>\n",
    "**Course Name:**  MSBA-601-01 Fund Tech for Bus Analytics (Fall 2024) <br>\n",
    "**Date:** 11/20/2024<br>\n",
    "\n",
    "---\n",
    "\n",
    "### Project Overview\n",
    "\n",
    "In this project, you will work in a team of two and utilize what we have learned in this class to preform an analysis on a dataset. \n",
    "\n",
    "The data you choose is up to you! I encourage you to select a dataset that fits your area of expertise. Some of the resources for datasets are listed below. Note that these are just resources I've used in the past. You are not limited to these resources, but it's a place to start.<br>\n",
    "    <br>\n",
    "    - [kaggle](https://www.kaggle.com/datasets)<br>\n",
    "    - [data.gov](https://data.gov/)<br>\n",
    "    - [google datasets](https://datasetsearch.research.google.com/)<br>\n",
    "    - [SEC datasets](https://www.sec.gov/data-research/sec-markets-data/financial-statement-data-sets)<br>\n",
    "    - [dataquest](https://www.dataquest.io/blog/free-datasets-for-projects/)<br>\n",
    "\n",
    "Your dataset must have at LEAST 10,000 rows of data. Additionally, it should have enough attributes to allow for a meaningful analysis and level of complexity (e.g., a dataset with just two columns for \"name\" and \"birthdate\" likely is not going to be enough.)\n",
    "\n",
    "Once you have selected a dataset, you will be required to perform an analysis\n",
    "\n",
    " with a large dataset of at least 10,000 rows. The goal is to:\n",
    "- Import and explore the dataset.\n",
    "- Clean and prepare the data for analysis.\n",
    "- Derive at least 6 key insights from the data using Python and Python libraries. You are welcome to add more coding blocks and more insights. \n",
    "- Communicate these insights clearly, professionally, and explain how they can inform decision-making.\n",
    "\n",
    "---\n"
   ]
  },
  {
   "cell_type": "markdown",
   "id": "5afc8f04",
   "metadata": {},
   "source": [
    "Data Overview \n",
    "\n",
    "The dataset contains 36733 instances of 11 sensor measures aggregated over one hour, from a gas turbine located in Turkey for the purpose of studying flue gas emissions, namely CO and NOx."
   ]
  },
  {
   "cell_type": "markdown",
   "id": "075548fe",
   "metadata": {},
   "source": [
    "What is gas turbine?\n",
    "\n",
    "A gas turbine is a type of combustion engine that converts the energy from burning fuel (usually natural gas, but sometimes oil or other fuels) into mechanical energy, which can be used to drive a generator or other mechanical equipment. Gas turbines are widely used for electricity generation, propulsion in aircraft, and in various industrial applications."
   ]
  },
  {
   "cell_type": "markdown",
   "id": "e3791b05",
   "metadata": {},
   "source": [
    "See Gas Turbine image\n",
    "\n",
    "https://energyeducation.ca/encyclopedia/Gas_turbine"
   ]
  },
  {
   "cell_type": "markdown",
   "id": "5108f381",
   "metadata": {},
   "source": [
    "Data Variables:\n",
    "\n",
    "Ambient temperature (AT):Measures the temperature of the air surrounding the system. It's important for understanding environmental conditions and their effects on system performance.\n",
    "\n",
    "Ambient pressure (AP):Measures the atmospheric pressure of the surrounding environment. This affects air density and, consequently, the efficiency of processes like combustion and air compression.\n",
    "\n",
    "\n",
    "Ambient humidity (AH):Measures the relative moisture content in the surrounding air, expressed as a percentage. High humidity can affect combustion efficiency and system cooling.\n",
    "Air filter difference pressure (AFDP):Measures the pressure drop across the air filter. This indicates how clean or clogged the filter is—higher values suggest restricted airflow due to dirt buildup.\n",
    "\n",
    "Gas turbine exhaust pressure (GTEP):Measures the pressure of gases exiting the gas turbine. It reflects the backpressure on the turbine and can influence its efficiency and power output.\n",
    "\n",
    "Turbine inlet temperature (TIT):Measures the temperature of gases entering the turbine. Higher temperatures typically allow for more energy generation but require careful control to avoid material stress and damage.\n",
    "\n",
    "Turbine after temperature (TAT):Measures the temperature of gases after they pass through the turbine. It indicates how much energy was extracted from the gases during the process.\n",
    "\n",
    "Compressor discharge pressure (CDP):Measures the pressure of air exiting the compressor. This is a key parameter in evaluating the compressor’s performance and the efficiency of the overall cycle.\n",
    "\n",
    "Turbine energy yield (TEY):Measures the total energy output of the turbine, typically used to assess its efficiency and production capacity over a specific period.\n",
    "\n",
    "Carbon monoxide (CO):Measures the concentration of carbon monoxide in the exhaust gases. This is a pollutant and an indicator of incomplete combustion in the system.\n",
    "\n",
    "Nitrogen oxides (NOx):Measures the concentration of nitrogen oxides in the exhaust gases. These are harmful pollutants formed at high temperatures during combustion and are closely monitored for environmental compliance."
   ]
  },
  {
   "cell_type": "markdown",
   "id": "2fb24ed6",
   "metadata": {},
   "source": [
    "## 1. Importing Necessary Libraries"
   ]
  },
  {
   "cell_type": "code",
   "execution_count": 1,
   "id": "f3066431",
   "metadata": {},
   "outputs": [],
   "source": [
    "import pandas as pd"
   ]
  },
  {
   "cell_type": "markdown",
   "id": "74a5e2b7",
   "metadata": {},
   "source": []
  },
  {
   "cell_type": "markdown",
   "id": "afdc46e7",
   "metadata": {},
   "source": [
    "\n",
    "## 2. Loading the Dataset\n",
    "\n",
    "Load your dataset here. Make sure the dataset has at least 10,000 rows.\n"
   ]
  },
  {
   "cell_type": "code",
   "execution_count": 1,
   "id": "cbb1ac66",
   "metadata": {},
   "outputs": [
    {
     "ename": "NameError",
     "evalue": "name 'pd' is not defined",
     "output_type": "error",
     "traceback": [
      "\u001b[0;31m---------------------------------------------------------------------------\u001b[0m",
      "\u001b[0;31mNameError\u001b[0m                                 Traceback (most recent call last)",
      "Cell \u001b[0;32mIn[1], line 1\u001b[0m\n\u001b[0;32m----> 1\u001b[0m data_2011 \u001b[38;5;241m=\u001b[39m \u001b[43mpd\u001b[49m\u001b[38;5;241m.\u001b[39mread_csv(\u001b[38;5;124m'\u001b[39m\u001b[38;5;124mgt_2011.csv\u001b[39m\u001b[38;5;124m'\u001b[39m)\n\u001b[1;32m      2\u001b[0m data_2012 \u001b[38;5;241m=\u001b[39m pd\u001b[38;5;241m.\u001b[39mread_csv(\u001b[38;5;124m'\u001b[39m\u001b[38;5;124mgt_2012.csv\u001b[39m\u001b[38;5;124m'\u001b[39m)\n\u001b[1;32m      3\u001b[0m data_2013 \u001b[38;5;241m=\u001b[39m pd\u001b[38;5;241m.\u001b[39mread_csv(\u001b[38;5;124m'\u001b[39m\u001b[38;5;124mgt_2013.csv\u001b[39m\u001b[38;5;124m'\u001b[39m)\n",
      "\u001b[0;31mNameError\u001b[0m: name 'pd' is not defined"
     ]
    }
   ],
   "source": [
    "data_2011 = pd.read_csv('gt_2011.csv')\n",
    "data_2012 = pd.read_csv('gt_2012.csv')\n",
    "data_2013 = pd.read_csv('gt_2013.csv')\n",
    "data_2014 = pd.read_csv('gt_2014.csv')\n",
    "data_2015 = pd.read_csv('gt_2015.csv')\n",
    "\n",
    "print(data_2011.head())"
   ]
  },
  {
   "cell_type": "markdown",
   "id": "b78ea3b0",
   "metadata": {},
   "source": [
    "\n",
    "## 3. Data Exploration\n",
    "\n",
    "Explore the dataset by checking its dimensions, data types, and any missing values.\n"
   ]
  },
  {
   "cell_type": "code",
   "execution_count": 2,
   "id": "5b8b0a6c",
   "metadata": {},
   "outputs": [
    {
     "name": "stdout",
     "output_type": "stream",
     "text": [
      "       AT      AP      AH    AFDP    GTEP     TIT     TAT     TEY     CDP  \\\n",
      "0  4.5878  1018.7  83.675  3.5758  23.979  1086.2  549.83  134.67  11.898   \n",
      "1  4.2932  1018.3  84.235  3.5709  23.951  1086.1  550.05  134.67  11.892   \n",
      "2  3.9045  1018.4  84.858  3.5828  23.990  1086.5  550.19  135.10  12.042   \n",
      "3  3.7436  1018.3  85.434  3.5808  23.911  1086.5  550.17  135.03  11.990   \n",
      "4  3.7516  1017.8  85.182  3.5781  23.917  1085.9  550.00  134.67  11.910   \n",
      "\n",
      "        CO     NOX  \n",
      "0  0.32663  81.952  \n",
      "1  0.44784  82.377  \n",
      "2  0.45144  83.776  \n",
      "3  0.23107  82.505  \n",
      "4  0.26747  82.028  \n",
      "File combined successfully!\n"
     ]
    }
   ],
   "source": [
    "import pandas as pd\n",
    "import os\n",
    "file_names = ['gt_2011.csv','gt_2012.csv','gt_2013.csv','gt_2014.csv','gt_2015.csv']\n",
    "combinned_data = pd.concat([pd.read_csv(file) for file in file_names], ignore_index=True)\n",
    "print(combinned_data.head())\n",
    "combinned_data.to_csv('combined_gt_2011_2015.csv', index=False)\n",
    "print(\"File combined successfully!\")\n",
    "              \n",
    "              \n",
    "\n"
   ]
  },
  {
   "cell_type": "markdown",
   "id": "5b434659",
   "metadata": {},
   "source": [
    "\n",
    "**Guiding Questions:**\n",
    "- What columns are available in the data?\n",
    "- Are there any columns with missing values?\n",
    "- What data types are present?\n"
   ]
  },
  {
   "cell_type": "markdown",
   "id": "f8d371ab",
   "metadata": {},
   "source": []
  },
  {
   "cell_type": "markdown",
   "id": "2fc4974d",
   "metadata": {},
   "source": [
    "\n",
    "## 4. Data Cleaning\n",
    "\n",
    "Clean the data to ensure consistency and handle any missing values or outliers.\n"
   ]
  },
  {
   "cell_type": "code",
   "execution_count": 3,
   "id": "2ff17c2b",
   "metadata": {},
   "outputs": [
    {
     "name": "stdout",
     "output_type": "stream",
     "text": [
      "AT      0\n",
      "AP      0\n",
      "AH      0\n",
      "AFDP    0\n",
      "GTEP    0\n",
      "TIT     0\n",
      "TAT     0\n",
      "TEY     0\n",
      "CDP     0\n",
      "CO      0\n",
      "NOX     0\n",
      "dtype: int64\n"
     ]
    }
   ],
   "source": [
    "print(combinned_data.isnull().sum())"
   ]
  },
  {
   "cell_type": "code",
   "execution_count": 6,
   "id": "f8db7001",
   "metadata": {},
   "outputs": [],
   "source": [
    "import pandas as pd\n",
    "df = pd.read_csv('gt_2011.csv')\n",
    "df['Year'] = 2011 \n",
    "df.to_csv('update_gt2011.csv', index=False)\n",
    "df = pd.read_csv('gt_2012.csv')\n",
    "df['Year'] = 2012 \n",
    "df.to_csv('update_gt2012.csv', index=False)\n",
    "df = pd.read_csv('gt_2013.csv')\n",
    "df['Year'] = 2013 \n",
    "df.to_csv('update_gt2013.csv', index=False)\n",
    "df = pd.read_csv('gt_2014.csv')\n",
    "df['Year'] = 2014 \n",
    "df.to_csv('update_gt2014.csv', index=False)\n",
    "df = pd.read_csv('gt_2015.csv')\n",
    "df['Year'] = 2015 \n",
    "df.to_csv('update_gt2015.csv', index=False)\n",
    "\n"
   ]
  },
  {
   "cell_type": "code",
   "execution_count": 7,
   "id": "2b56aa4f",
   "metadata": {},
   "outputs": [
    {
     "name": "stdout",
     "output_type": "stream",
     "text": [
      "       AT      AP      AH    AFDP    GTEP     TIT     TAT     TEY     CDP  \\\n",
      "0  4.5878  1018.7  83.675  3.5758  23.979  1086.2  549.83  134.67  11.898   \n",
      "1  4.2932  1018.3  84.235  3.5709  23.951  1086.1  550.05  134.67  11.892   \n",
      "2  3.9045  1018.4  84.858  3.5828  23.990  1086.5  550.19  135.10  12.042   \n",
      "3  3.7436  1018.3  85.434  3.5808  23.911  1086.5  550.17  135.03  11.990   \n",
      "4  3.7516  1017.8  85.182  3.5781  23.917  1085.9  550.00  134.67  11.910   \n",
      "\n",
      "        CO     NOX  Year  \n",
      "0  0.32663  81.952  2011  \n",
      "1  0.44784  82.377  2011  \n",
      "2  0.45144  83.776  2011  \n",
      "3  0.23107  82.505  2011  \n",
      "4  0.26747  82.028  2011  \n",
      "File combined successfully!\n"
     ]
    }
   ],
   "source": [
    "import pandas as pd\n",
    "import os\n",
    "file_names = ['update_gt2011.csv', 'update_gt2012.csv', 'update_gt2013.csv','update_gt2014.csv','update_gt2015.csv']\n",
    "combinned_data = pd.concat([pd.read_csv(file) for file in file_names], ignore_index=True)\n",
    "print(combinned_data.head())\n",
    "combinned_data.to_csv('combined_gt_2011_2015.csv', index=False)\n",
    "print(\"File combined successfully!\")"
   ]
  },
  {
   "cell_type": "markdown",
   "id": "91aae287",
   "metadata": {},
   "source": [
    "\n",
    "**Instructions:**\n",
    "- Describe each cleaning step you take.\n",
    "- Explain how these changes will improve the analysis.\n"
   ]
  },
  {
   "cell_type": "markdown",
   "id": "b856705c",
   "metadata": {},
   "source": [
    "\n",
    "## 5. Data Visualization\n",
    "\n",
    "Use visualization to better understand the data and spot trends. Include at least two visualizations.\n"
   ]
  },
  {
   "cell_type": "code",
   "execution_count": 4,
   "id": "80e08531",
   "metadata": {},
   "outputs": [],
   "source": [
    "import matplotlib.pyplot as plt\n"
   ]
  },
  {
   "cell_type": "code",
   "execution_count": null,
   "id": "1baa1222",
   "metadata": {},
   "outputs": [],
   "source": [
    "# Code block for visualization 2"
   ]
  },
  {
   "cell_type": "markdown",
   "id": "c4d36bed",
   "metadata": {},
   "source": [
    "\n",
    "**Guiding Questions:**\n",
    "- What patterns do you see?\n",
    "- How can these patterns contribute to further insights?\n"
   ]
  },
  {
   "cell_type": "markdown",
   "id": "928959d5",
   "metadata": {},
   "source": [
    "\n",
    "## 6. Deriving Insights\n",
    "\n",
    "In this section, derive six insights from the data. Each insight should have:\n",
    "- A brief description of what you are examining.\n",
    "- The code used to calculate or visualize it.\n",
    "- A short analysis of the results and how they contribute to understanding the data.\n",
    "- Visuals can be used to aid your insights as well."
   ]
  },
  {
   "cell_type": "markdown",
   "id": "27e099e9",
   "metadata": {},
   "source": [
    "\n",
    "### Insight 1\n",
    "\n",
    "**Insight Description:** _[Describe what you are trying to learn from this analysis.]_ <br>\n",
    "**Analysis:** _[Describe what this insight tells you and how it can inform decisions.]_<br>\n"
   ]
  },
  {
   "cell_type": "code",
   "execution_count": null,
   "id": "4e9f9447",
   "metadata": {},
   "outputs": [],
   "source": [
    "# Code for Insight"
   ]
  },
  {
   "cell_type": "markdown",
   "id": "aaf16dd1",
   "metadata": {},
   "source": [
    "\n",
    "### Insight 2\n",
    "\n",
    "**Insight Description:** _[Describe what you are trying to learn from this analysis.]_ <br>\n",
    "**Analysis:** _[Describe what this insight tells you and how it can inform decisions.]_<br>\n"
   ]
  },
  {
   "cell_type": "code",
   "execution_count": null,
   "id": "5dc1b35a",
   "metadata": {},
   "outputs": [],
   "source": [
    "# Code for Insight"
   ]
  },
  {
   "cell_type": "markdown",
   "id": "8a69d860",
   "metadata": {},
   "source": [
    "\n",
    "### Insight 3\n",
    "\n",
    "**Insight Description:** _[Describe what you are trying to learn from this analysis.]_ <br>\n",
    "**Analysis:** _[Describe what this insight tells you and how it can inform decisions.]_<br>"
   ]
  },
  {
   "cell_type": "code",
   "execution_count": null,
   "id": "2dce6a7f",
   "metadata": {},
   "outputs": [],
   "source": [
    "# Code for Insight"
   ]
  },
  {
   "cell_type": "markdown",
   "id": "d8a11eaa",
   "metadata": {},
   "source": [
    "\n",
    "### Insight 4\n",
    "\n",
    "**Insight Description:** _[Describe what you are trying to learn from this analysis.]_ <br>\n",
    "**Analysis:** _[Describe what this insight tells you and how it can inform decisions.]_<br>"
   ]
  },
  {
   "cell_type": "code",
   "execution_count": null,
   "id": "826110a1",
   "metadata": {},
   "outputs": [],
   "source": [
    "# Code for Insight"
   ]
  },
  {
   "cell_type": "markdown",
   "id": "520dc770",
   "metadata": {},
   "source": [
    "\n",
    "### Insight 5\n",
    "\n",
    "**Insight Description:** _[Describe what you are trying to learn from this analysis.]_ <br>\n",
    "**Analysis:** _[Describe what this insight tells you and how it can inform decisions.]_<br>"
   ]
  },
  {
   "cell_type": "code",
   "execution_count": null,
   "id": "4938aed5",
   "metadata": {},
   "outputs": [],
   "source": [
    "# Code for Insight "
   ]
  },
  {
   "cell_type": "markdown",
   "id": "ad2db7f6",
   "metadata": {},
   "source": [
    "\n",
    "### Insight 6\n",
    "\n",
    "**Insight Description:** _[Describe what you are trying to learn from this analysis.]_ <br>\n",
    "**Analysis:** _[Describe what this insight tells you and how it can inform decisions.]_<br>\n"
   ]
  },
  {
   "cell_type": "code",
   "execution_count": 1,
   "id": "0d8255d9",
   "metadata": {},
   "outputs": [],
   "source": [
    "# Code for Insight"
   ]
  },
  {
   "cell_type": "markdown",
   "id": "0d68ce6f",
   "metadata": {},
   "source": [
    "\n",
    "## 7. Summary and Conclusions\n",
    "\n",
    "Summarize your findings and highlight the most impactful insights you derived from the data.\n",
    "\n",
    "**Guiding Questions:**\n",
    "- What key takeaways did you learn from this data?\n",
    "- How can these insights inform future decisions?\n",
    "- Are there any limitations in your analysis?\n"
   ]
  },
  {
   "cell_type": "markdown",
   "id": "6c24062d",
   "metadata": {},
   "source": [
    "**Insight Description:** _[Describe what you are trying to learn from this analysis.]_ <br>\n",
    "**Analysis:** _[Describe what this insight tells you and how it can inform decisions.]_<br>"
   ]
  },
  {
   "cell_type": "markdown",
   "id": "d745c89b",
   "metadata": {},
   "source": [
    "\n",
    "## 8. Projections\n",
    "\n",
    "Finally, tell us something that can be learned from this analysis to make better decisions going forward. "
   ]
  },
  {
   "cell_type": "markdown",
   "id": "d466af34",
   "metadata": {},
   "source": [
    "**Insight Description:** _[Describe what you are trying to learn from this analysis.]_ <br>\n",
    "**Analysis:** _[Describe what this insight tells you and how it can inform decisions.]_<br>"
   ]
  },
  {
   "cell_type": "markdown",
   "id": "eee05150",
   "metadata": {},
   "source": [
    "\n",
    "**Instructions for Submission:**\n",
    "\n",
    "- Submit the completed `.ipynb` file, dataset, and link to dataset in Canvas.\n"
   ]
  },
  {
   "cell_type": "markdown",
   "id": "cf44baab",
   "metadata": {},
   "source": [
    "## Grading Critiria\n",
    "\n",
    "Below are some of the critiria that I will be using when grading the final case. Keep in mind, no one part has a specific weight."
   ]
  },
  {
   "cell_type": "markdown",
   "id": "e6bc06b1",
   "metadata": {},
   "source": [
    "| **Section**          | **Description**                                                                                                                                             |\n",
    "|----------------------|-------------------------------------------------------------------------------------------------------------------------------------------------------------|\n",
    "| **Dataset Quality**  | Does the dataset meet the length and complexity requirements?                                                                                               |\n",
    "| **Data Ingestion**   | Demonstrates a well-structured process using Python to import, explore, and clean the data.                                                                 |\n",
    "| **Data Cleanup**     | Clearly explains how data was cleaned (if necessary) to prepare it for analysis.                                                                            |\n",
    "| **Analysis**         | - Utilizes a variety of modules and functions to analyze the cleaned dataset.                                                                               |\n",
    "|                      | - You and your partner must provide at least six (6) insights derived from the analysis.                                                                    |\n",
    "|                      | - Insights should reveal something not initially obvious from the raw data.                                                                                 |\n",
    "|                      | - Present each insight with code execution, printed data tables, visuals, etc., and explain the process and significance.                                   |\n",
    "| **Conclusion**       | Synthesizes your insights to explain the overall story the data tells.                                                                                      |\n",
    "|                      | Discusses the importance of the data and general conclusions that can be drawn.                                                                             |\n",
    "| **Projection**       | Takes the analysis further by considering its application in a real-world context.                                                                          |\n",
    "|                      | Provides recommendations for stakeholders on how the findings can inform better, more informed decisions in the future.                                     |\n",
    "|----------------------|-------------------------------------------------------------------------------------------------------------------------------------------------------------|\n",
    "| **Overall Presentation Quality**                     | How descriptive your explanations in the file are and the verbal presentation piece.                                    |\n"
   ]
  }
 ],
 "metadata": {
  "kernelspec": {
   "display_name": "venv",
   "language": "python",
   "name": "python3"
  },
  "language_info": {
   "codemirror_mode": {
    "name": "ipython",
    "version": 3
   },
   "file_extension": ".py",
   "mimetype": "text/x-python",
   "name": "python",
   "nbconvert_exporter": "python",
   "pygments_lexer": "ipython3",
   "version": "3.10.8"
  }
 },
 "nbformat": 4,
 "nbformat_minor": 5
}
