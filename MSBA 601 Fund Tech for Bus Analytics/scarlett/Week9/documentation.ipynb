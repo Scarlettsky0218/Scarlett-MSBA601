{
 "cells": [
  {
   "cell_type": "markdown",
   "id": "dd52495b",
   "metadata": {},
   "source": [
    "\n",
    "# Data Science Assignment: Exploring Documentation and Data Analysis Tools\n",
    "\n",
    "In this assignment, you will explore three essential tools for data analysis in Python:\n",
    "- **Pandas**\n",
    "- **Matplotlib**\n",
    "- One more Python data science package of your choice (e.g., `seaborn`, `scikit-learn`, `numpy`, etc.)\n",
    "\n",
    "## Objectives:\n",
    "1. **Research**: You will read the documentation for these libraries and explore some new or interesting features.\n",
    "2. **Implementation**: You will demonstrate 5 different techniques or functionalities you have learned by analyzing a dataset of your choice.\n",
    "\n",
    "### Steps:\n",
    "1. **Explore the Pandas Documentation**: Visit the [Pandas Documentation](https://pandas.pydata.org/pandas-docs/stable/). Look for interesting or new features that you have not yet explored. Examples could include handling missing data, merging data, or using advanced group-by functions.\n",
    "\n",
    "2. **Explore the Matplotlib Documentation**: Visit the [Matplotlib Documentation](https://matplotlib.org/stable/contents.html). Look for advanced visualization techniques that will help you visualize your data.\n",
    "\n",
    "3. **Select Another Library**: Choose another data science library you are interested in, such as `seaborn`, `scikit-learn`, or `numpy`. Visit its documentation, learn something new, and apply it to your dataset.\n",
    "\n",
    "### Requirements:\n",
    "- **Markdown Documentation**: For each technique or method you implement, explain what it does and why you chose it in a markdown cell before each code block.\n",
    "- **Code Implementation**: After the markdown explanation, provide a code block where you implement the feature with your dataset.\n",
    "\n",
    "---\n",
    "\n",
    "### Example Dataset\n",
    "You are free to use any dataset of your choice. If you don't have one, you can download some popular datasets from websites like [Kaggle](https://www.kaggle.com/datasets) or use in-built datasets in Python libraries like [seaborn](https://www.geeksforgeeks.org/seaborn-datasets-for-data-science/) or [sklearn](https://scikit-learn.org/1.5/datasets/real_world.html).\n"
   ]
  },
  {
   "cell_type": "markdown",
   "id": "892f35a5",
   "metadata": {},
   "source": [
    "\n",
    "## Task 1: Pandas Documentation\n",
    "\n",
    "Research and choose two interesting functions or techniques from the Pandas documentation that are useful for data analysis. You may explore new ways to handle missing data, merge datasets, or advanced grouping techniques.\n",
    "\n",
    "### Example:\n",
    "- **Pandas Method**: `pd.merge()` - Use this function to merge two dataframes.\n",
    "- **Why I chose this**: Merging data from different sources is a common task in data analysis, and this function is highly efficient.\n",
    "\n"
   ]
  },
  {
   "cell_type": "code",
   "execution_count": null,
   "id": "121218ac",
   "metadata": {},
   "outputs": [],
   "source": [
    "\n",
    "# Task 1: Pandas Method 1\n",
    "# Code goes here: Implement a pandas method you researched from the documentation.\n",
    "\n"
   ]
  },
  {
   "cell_type": "code",
   "execution_count": null,
   "id": "63d37cf8",
   "metadata": {},
   "outputs": [],
   "source": [
    "\n",
    "# Task 1: Pandas Method 2\n",
    "# Code goes here: Implement another pandas method you researched from the documentation.\n",
    "\n"
   ]
  },
  {
   "cell_type": "markdown",
   "id": "1da439fd",
   "metadata": {},
   "source": [
    "<mark>Type Analysis Here</mark>"
   ]
  },
  {
   "cell_type": "markdown",
   "id": "c78d34e6",
   "metadata": {},
   "source": [
    "\n",
    "## Task 2: Matplotlib Documentation\n",
    "\n",
    "Explore the Matplotlib documentation and implement two different types of visualizations. You may explore functions for customizing plots, adding annotations, or plotting with subplots.\n",
    "\n",
    "### Example:\n",
    "- **Matplotlib Method**: `plt.subplot()` - Create multiple subplots in a single figure.\n",
    "- **Why I chose this**: Subplots allow me to visualize multiple variables side by side in one figure.\n",
    "\n"
   ]
  },
  {
   "cell_type": "code",
   "execution_count": null,
   "id": "c3ef7ca0",
   "metadata": {},
   "outputs": [],
   "source": [
    "\n",
    "# Task 2: Matplotlib Visualization 1\n",
    "# Code goes here: Implement a visualization from the matplotlib documentation.\n",
    "\n"
   ]
  },
  {
   "cell_type": "code",
   "execution_count": null,
   "id": "bc50f603",
   "metadata": {},
   "outputs": [],
   "source": [
    "\n",
    "# Task 2: Matplotlib Visualization 2\n",
    "# Code goes here: Implement another visualization from the matplotlib documentation.\n",
    "\n"
   ]
  },
  {
   "cell_type": "markdown",
   "id": "c940a102",
   "metadata": {},
   "source": [
    "<mark>Type Analysis Here</mark>"
   ]
  },
  {
   "cell_type": "markdown",
   "id": "1e1883c9",
   "metadata": {},
   "source": [
    "\n",
    "## Task 3: Data Science Library of Your Choice\n",
    "\n",
    "Choose another data science library (e.g., Seaborn, Scikit-Learn, Numpy) and research one method or technique that helps you analyze or visualize your data.\n",
    "\n",
    "### Example:\n",
    "- **Chosen Library**: `Seaborn`\n",
    "- **Method**: `sns.heatmap()` - Plot heatmaps to visualize the correlation between different variables.\n",
    "- **Why I chose this**: Heatmaps are useful to quickly identify relationships between features in a dataset.\n",
    "\n"
   ]
  },
  {
   "cell_type": "code",
   "execution_count": null,
   "id": "94235190",
   "metadata": {},
   "outputs": [],
   "source": [
    "\n",
    "# Task 3: Library of Your Choice - Method 1\n",
    "# Code goes here: Implement a method or functionality from a library of your choice.\n",
    "\n"
   ]
  },
  {
   "cell_type": "markdown",
   "id": "08e734a5",
   "metadata": {},
   "source": [
    "<mark>Type Analysis Here</mark>"
   ]
  },
  {
   "cell_type": "markdown",
   "id": "09c8dd83",
   "metadata": {},
   "source": [
    "## Assignment Submission & Grading\n",
    "\n",
    "- Make sure to put your last name in the file name (this helps me with grading).\n",
    "- Scoring will be on a 100 point scale (like all other assignment).\n",
    "- Scoring criteria is based on how clean and complicated your code is and thoughtfulness of your analysis. "
   ]
  }
 ],
 "metadata": {
  "language_info": {
   "name": "python"
  }
 },
 "nbformat": 4,
 "nbformat_minor": 5
}
