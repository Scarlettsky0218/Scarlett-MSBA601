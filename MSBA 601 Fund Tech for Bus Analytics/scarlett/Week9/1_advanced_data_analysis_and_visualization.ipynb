{
 "cells": [
  {
   "cell_type": "markdown",
   "id": "052a34be",
   "metadata": {},
   "source": [
    "# Advanced Python Data Analysis and Visualization\n",
    "    \n",
    "This notebook demonstrates advanced techniques for data analysis and visualization using Python libraries such as `pandas`, `matplotlib`, and `seaborn`. Additionally, it generates a summary report in both Word and Excel formats.\n",
    "\n",
    "### Dataset\n",
    "We will be using a sample dataset from the `seaborn` library, which contains information about tips received by a waiter based on various factors.\n"
   ]
  },
  {
   "cell_type": "code",
   "execution_count": null,
   "id": "16316a9c",
   "metadata": {},
   "outputs": [
    {
     "ename": "",
     "evalue": "",
     "output_type": "error",
     "traceback": [
      "\u001b[1;31mRunning cells with 'venv (Python 3.10.8)' requires the ipykernel package.\n",
      "\u001b[1;31mRun the following command to install 'ipykernel' into the Python environment. \n",
      "\u001b[1;31mCommand: 'c:/Gitty/MSBA-601-Fall-2024/venv/Scripts/python.exe -m pip install ipykernel -U --force-reinstall'"
     ]
    }
   ],
   "source": [
    "\n",
    "# Import necessary libraries\n",
    "import pandas as pd\n",
    "import matplotlib.pyplot as plt\n",
    "import seaborn as sns\n",
    "\n",
    "# Load the 'tips' dataset from seaborn\n",
    "tips = sns.load_dataset('tips')\n",
    "tips.head()\n"
   ]
  },
  {
   "cell_type": "markdown",
   "id": "1124b56f",
   "metadata": {},
   "source": [
    "## Data Cleaning and Exploration\n",
    "    \n",
    "1. **Handling Missing Data**: Check for any missing values and handle them accordingly.\n",
    "2. **Descriptive Statistics**: Provide summary statistics of the dataset.\n"
   ]
  },
  {
   "cell_type": "code",
   "execution_count": null,
   "id": "a51a79ca",
   "metadata": {},
   "outputs": [],
   "source": [
    "\n",
    "# Check for missing data\n",
    "missing_data = tips.isnull().sum()\n",
    "missing_data\n"
   ]
  },
  {
   "cell_type": "code",
   "execution_count": null,
   "id": "c60a78ca",
   "metadata": {},
   "outputs": [],
   "source": [
    "\n",
    "# Summary statistics\n",
    "summary_stats = tips.describe()\n",
    "summary_stats\n"
   ]
  },
  {
   "cell_type": "markdown",
   "id": "8baa42ec",
   "metadata": {},
   "source": [
    "## Data Visualization\n",
    "\n",
    "### 1. Correlation Heatmap\n",
    "A heatmap to visualize the correlation between numeric features in the dataset.\n"
   ]
  },
  {
   "cell_type": "code",
   "execution_count": null,
   "id": "70b6cd3c",
   "metadata": {},
   "outputs": [],
   "source": [
    "# Import the required libraries\n",
    "import seaborn as sns\n",
    "import matplotlib.pyplot as plt\n",
    "\n",
    "# Load the sample dataset 'tips' from seaborn\n",
    "df = sns.load_dataset('tips')\n",
    "\n",
    "# Display the first few rows to understand the data structure\n",
    "print(df.head())\n",
    "\n",
    "# Select only the numeric columns for correlation\n",
    "df = df.select_dtypes(include=['number'])\n"
   ]
  },
  {
   "cell_type": "code",
   "execution_count": null,
   "id": "acc6239c",
   "metadata": {},
   "outputs": [],
   "source": [
    "# Import the required libraries\n",
    "import pandas as pd\n",
    "import matplotlib.pyplot as plt\n",
    "import seaborn as sns\n",
    "\n",
    "# Assuming 'df' is your DataFrame containing the numeric data\n",
    "# You can replace this with the actual dataset you're using\n",
    "# Example: df = pd.read_csv('your_data.csv')\n",
    "\n",
    "# 1. Correlation Heatmap\n",
    "plt.figure(figsize=(10, 8))  # Set the figure size for the heatmap\n",
    "correlation_matrix = df.corr()  # Calculate the correlation matrix\n",
    "\n",
    "# Generate the heatmap\n",
    "sns.heatmap(correlation_matrix, annot=True, cmap='coolwarm', fmt='.2f', linewidths=0.5)\n",
    "\n",
    "# Add title and adjust layout\n",
    "plt.title('Correlation Heatmap')\n",
    "plt.tight_layout()\n",
    "\n",
    "# Show the plot\n",
    "plt.show()\n"
   ]
  },
  {
   "cell_type": "markdown",
   "id": "29f5ba3e",
   "metadata": {},
   "source": [
    "## Analysis of the Heatmap:\n",
    "\n",
    "### Diagonal (1.0 values):\n",
    "The diagonal values (from top-left to bottom-right) are all 1.0 because each variable is perfectly correlated with itself.\n",
    "\n",
    "### `total_bill` and `tip` (0.68):\n",
    "The correlation between `total_bill` and `tip` is 0.68, indicating a strong positive relationship. This makes sense: as the total bill increases, tips generally increase as well.\n",
    "\n",
    "### `total_bill` and `size` (0.60):\n",
    "The correlation between `total_bill` and `size` is 0.60, also a positive correlation. Larger parties tend to have higher bills.\n",
    "\n",
    "### `tip` and `size` (0.49):\n",
    "The correlation between `tip` and `size` is 0.49, which is a moderate positive correlation. Larger parties tend to leave higher tips, although the relationship is weaker than the one between `total_bill` and `tip`.\n"
   ]
  },
  {
   "cell_type": "markdown",
   "id": "e4390f65",
   "metadata": {},
   "source": [
    "### 2. Boxplot of Tips by Day\n",
    "\n",
    "A boxplot to show the distribution of tips based on the day of the week.\n"
   ]
  },
  {
   "cell_type": "code",
   "execution_count": null,
   "id": "c93e2250",
   "metadata": {},
   "outputs": [],
   "source": [
    "\n",
    "# Boxplot of tips by day\n",
    "plt.figure(figsize=(8, 6))\n",
    "sns.boxplot(x='day', y='tip', data=tips, palette='Set2')\n",
    "plt.title('Boxplot of Tips by Day')\n",
    "plt.show()\n"
   ]
  },
  {
   "cell_type": "markdown",
   "id": "91ffcc91",
   "metadata": {},
   "source": [
    "## Key Elements of the Boxplot:\n",
    "\n",
    "### Boxes (Interquartile Range - IQR):\n",
    "The central box represents the interquartile range (IQR), which is the range between the first quartile (25th percentile) and the third quartile (75th percentile).  \n",
    "The line inside the box represents the **median** (50th percentile) tip for each day.\n",
    "\n",
    "### Whiskers:\n",
    "The \"whiskers\" extend from the box to show the range of the data, typically 1.5 times the IQR from the quartiles.  \n",
    "Any points outside of this range are considered **outliers** and are plotted as individual points.\n",
    "\n",
    "### Outliers:\n",
    "The circles above the whiskers represent **outliers** — unusually high tip values that are more than 1.5 times the IQR away from the rest of the data.\n",
    "\n",
    "---\n",
    "\n",
    "## Analysis by Day:\n",
    "\n",
    "### Thursday (Thur):\n",
    "- Median tip is around $2.\n",
    "- The IQR is smaller compared to other days, meaning less variability in tips.\n",
    "- A few high outliers are present.\n",
    "\n",
    "### Friday (Fri):\n",
    "- Median tip is around $2.5.\n",
    "- The spread of the data (IQR) is slightly wider compared to Thursday.\n",
    "- Similar to Thursday, there are a few outliers, but not as many as on Saturday.\n",
    "\n",
    "### Saturday (Sat):\n",
    "- Median tip is around $2.5, similar to Friday.\n",
    "- There’s a larger number of **outliers** on Saturday, indicating that some customers left much higher tips on this day.\n",
    "- The IQR range is similar to Friday.\n",
    "\n",
    "### Sunday (Sun):\n",
    "- Median tip is noticeably higher, around $3, indicating that tips are generally larger on Sunday compared to other days.\n",
    "- The IQR is the largest on Sunday, suggesting the most variability in tip amounts.\n",
    "- There are fewer outliers compared to Saturday, but tips generally reach higher amounts.\n"
   ]
  },
  {
   "cell_type": "markdown",
   "id": "27835d3c",
   "metadata": {},
   "source": [
    "### 3. Scatter Plot with Regression Line\n",
    "\n",
    "A scatter plot to show the relationship between total bill and tip amount, with a regression line.\n"
   ]
  },
  {
   "cell_type": "code",
   "execution_count": null,
   "id": "534f0896",
   "metadata": {},
   "outputs": [],
   "source": [
    "\n",
    "# Scatter plot with regression line\n",
    "plt.figure(figsize=(8, 6))\n",
    "sns.regplot(x='total_bill', y='tip', data=tips, scatter_kws={'s':20}, line_kws={'color':'red'})\n",
    "plt.title('Total Bill vs Tip with Regression Line')\n",
    "plt.show()\n"
   ]
  },
  {
   "cell_type": "markdown",
   "id": "0c7c09c8",
   "metadata": {},
   "source": [
    "## Key Components of the Plot:\n",
    "\n",
    "### Scatter Points:\n",
    "- Each blue dot represents a single data point where the x-coordinate is the **total bill** and the y-coordinate is the **tip** for that transaction.\n",
    "- The points are scattered along the chart, showing how the tip varies with different total bill amounts.\n",
    "\n",
    "### Regression Line (Red Line):\n",
    "- The red line represents a **linear regression fit** of the data, showing the general trend in the relationship between the total bill and the tip.\n",
    "- The positive slope of the line indicates that there is a **positive relationship** between the total bill and the tip — as the total bill increases, the tip generally increases.\n",
    "\n",
    "### Shaded Area (Confidence Interval):\n",
    "- The shaded red area around the regression line represents the **confidence interval** for the linear regression model.\n",
    "- This band shows the uncertainty of the regression line fit; the wider the band, the more uncertainty there is in predicting the exact relationship.\n",
    "\n",
    "---\n",
    "\n",
    "## Analysis:\n",
    "\n",
    "- **Positive Correlation**: The plot clearly shows a positive correlation between the total bill and tip. As the total bill increases, tips also tend to increase, though the data shows a lot of variation.\n",
    "  \n",
    "- **Outliers**: There are a few data points where very high tips are given for certain bills, particularly noticeable around the highest total bill values (e.g., total bill of $50 and a tip of $10).\n",
    "\n",
    "- **Spread of Data**: The scatter points show that tips vary widely for smaller total bills (below $20), while for larger bills, tips are more consistently higher.\n"
   ]
  },
  {
   "cell_type": "markdown",
   "id": "2c546456",
   "metadata": {},
   "source": [
    "## Report Generation\n",
    "\n",
    "The following cells will generate a summary report in both Word and Excel formats, including data statistics and visualizations.\n"
   ]
  },
  {
   "cell_type": "code",
   "execution_count": null,
   "id": "677991aa",
   "metadata": {},
   "outputs": [],
   "source": [
    "import pandas as pd\n",
    "import seaborn as sns\n",
    "import matplotlib.pyplot as plt\n",
    "from docx import Document  # Import for generating Word documents\n",
    "\n",
    "# Load the 'tips' dataset from Seaborn\n",
    "tips = sns.load_dataset('tips')\n",
    "\n",
    "# Example of defining the missing variables\n",
    "summary_stats = tips.describe()  # Get summary statistics of the dataset\n",
    "missing_data = tips.isnull().sum()  # Get the count of missing data in each column\n",
    "\n",
    "# Function to generate a Word report\n",
    "def generate_word_report(summary, missing_data, visualizations):\n",
    "    doc = Document()\n",
    "    \n",
    "    # Title\n",
    "    doc.add_heading('Data Analysis Report', 0)\n",
    "\n",
    "    # Summary statistics\n",
    "    doc.add_heading('Summary Statistics', level=1)\n",
    "    doc.add_paragraph(str(summary))\n",
    "\n",
    "    # Missing data\n",
    "    doc.add_heading('Missing Data', level=1)\n",
    "    doc.add_paragraph(str(missing_data))\n",
    "\n",
    "    # Add visualizations to the Word document\n",
    "    doc.add_heading('Visualizations', level=1)\n",
    "    for viz_path in visualizations:\n",
    "        doc.add_picture(viz_path, width=5000000, height=3000000)\n",
    "\n",
    "    # Save the Word document\n",
    "    doc.save(\"data/data_analysis_report.docx\")\n",
    "    print(\"Word report generated successfully.\")\n",
    "\n",
    "# Function to generate an Excel report\n",
    "def generate_excel_report(df):\n",
    "    with pd.ExcelWriter(\"data/data_analysis_report.xlsx\") as writer:\n",
    "        # Write the original data\n",
    "        df.to_excel(writer, sheet_name='Data', index=False)\n",
    "        \n",
    "        # Write summary statistics\n",
    "        df.describe().to_excel(writer, sheet_name='Summary Statistics')\n",
    "        \n",
    "        # Write missing data report\n",
    "        missing_data_df = pd.DataFrame(missing_data, columns=['Missing Data'])\n",
    "        missing_data_df.to_excel(writer, sheet_name='Missing Data')\n",
    "        \n",
    "    print(\"Excel report generated successfully.\")\n",
    "\n",
    "# Save visualizations as images\n",
    "visualizations = []\n",
    "plt.figure(figsize=(8, 6))\n",
    "sns.heatmap(df.corr(), annot=True, cmap='coolwarm', linewidths=0.5)\n",
    "plt.title('Correlation Heatmap')\n",
    "heatmap_path = \"data/heatmap.png\"\n",
    "plt.savefig(heatmap_path)\n",
    "visualizations.append(heatmap_path)\n",
    "\n",
    "plt.figure(figsize=(8, 6))\n",
    "sns.boxplot(x='day', y='tip', data=tips, palette='Set2')\n",
    "plt.title('Boxplot of Tips by Day')\n",
    "boxplot_path = \"data/boxplot.png\"\n",
    "plt.savefig(boxplot_path)\n",
    "visualizations.append(boxplot_path)\n",
    "\n",
    "plt.figure(figsize=(8, 6))\n",
    "sns.regplot(x='total_bill', y='tip', data=tips, scatter_kws={'s':20}, line_kws={'color':'red'})\n",
    "plt.title('Total Bill vs Tip with Regression Line')\n",
    "regplot_path = \"data/regplot.png\"\n",
    "plt.savefig(regplot_path)\n",
    "visualizations.append(regplot_path)\n",
    "\n",
    "# Generate Word and Excel reports\n",
    "generate_word_report(summary_stats, missing_data, visualizations)\n",
    "generate_excel_report(tips)\n"
   ]
  }
 ],
 "metadata": {
  "kernelspec": {
   "display_name": "venv",
   "language": "python",
   "name": "python3"
  },
  "language_info": {
   "codemirror_mode": {
    "name": "ipython",
    "version": 3
   },
   "file_extension": ".py",
   "mimetype": "text/x-python",
   "name": "python",
   "nbconvert_exporter": "python",
   "pygments_lexer": "ipython3",
   "version": "3.10.8"
  }
 },
 "nbformat": 4,
 "nbformat_minor": 5
}
